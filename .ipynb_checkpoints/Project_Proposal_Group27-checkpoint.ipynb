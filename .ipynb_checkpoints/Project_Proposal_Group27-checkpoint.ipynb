{
 "cells": [
  {
   "cell_type": "markdown",
   "id": "d09cda79-0d71-49cc-8dab-dd75af2e1919",
   "metadata": {},
   "source": [
    "# Group 27 STAT 301 Project Proposal\n",
    "\n",
    "### Goals\n",
    "Our group hopes to apply the concepts we have learned in class to analyse the dataset \"World University Rankings 2023\" which has data compiled by Times Higher Education magazine. One of the goals of our project will be to find which indicators are the most associated with overall score. We hope to communicate our ideas regarding our data analysis effectively and hope to produce a report that displays STAT 301 ideas. \n",
    "\n",
    "### What do we want to accomplish?\n",
    "Throughout this term, our group aims to learn and improve vital skills in the realm of statistics. In particular, we will apply knowledge learnt from lectures into our dataset, and investigate the association between different variables impacting university rankings.\n",
    "\n",
    "### What skills do we want to develop or refine?\n",
    "There are several skills we wish to develop:\n",
    "- Data Wrangling: We will clean the data by identifying and handling the missing data. Additionally, we may scale the data to ensure that our data is normalized.\n",
    "- Data Exploration: We will create visualizations to explore the relationships and patterns in our data. Furthermore, we will compute the correlation (heat map) to understand how they are related to each other to avoid the multicollinearity issue.\n",
    "- Data Modeling: We will select the appropriate model like the simple linear model , multiple linear model or interaction model.\n",
    "\n",
    "### Expectations\n",
    "Firstly, all group members will be on time for meetings, communicate through instagram consistently, and have active participation in all meetings and discussions to contribute their ideas and insights. Outside of meetings, group members will try their best to produce quality work that reflects the concepts that they have learned in class.\n",
    "\n",
    "### Policies & Procedures\n",
    "As a group, members must be able to coordinate meetings that suit everyone’s timetables when appropriate. All group members must be prepared for meetings. It is important that all group members foster a safe learning environment where the diversity of opinions and backgrounds are respected and embraced. Group members should provide regular, constructive feedback on each other’s work, and all members should be willing to help each other out when necessary. The usage of ChatGPT is strictly forbidden and any group member who attempts to use ChatGPT in their writings or code will be firmly asked to redo their work and answer for any consequences that may arise. \n",
    "\n",
    "### Consequences\n",
    "In regards to consequences for breaking the rules laid out by the project proposal, we will address the chain of command starting with our TA and if required, we will consult the professor.\n",
    "\n",
    "### Chosen Topics\n",
    "Which variables are most associated with Overall Score? Identify one or two variables which are associated (either positively or negatively) with Overall Score. Ensuring we identify and eliminate any variables with a high Variance Inflation Factor, as this would suggest multicollinearity.\n",
    "\n",
    "### Description of Dataset\n",
    "The dataset contains a ranking of 1,799 universities across the world. The dataset ranks universities on 13 performance indicators evaluating each university’s performance in topics such as research, industry income, and international outlook. \\\n",
    "https://www.kaggle.com/datasets/alitaqi000/world-university-rankings-2023\n",
    "\n",
    "### SIGNATURES \n",
    "- Owen Kwong\n",
    "- Eleanor Yi\n",
    "- Dominic Leo\n",
    "- JIAWEI GUO(ZOE)\n"
   ]
  },
  {
   "cell_type": "code",
   "execution_count": null,
   "id": "d15266a7-d992-4179-b843-4c51bedc3f29",
   "metadata": {},
   "outputs": [],
   "source": []
  }
 ],
 "metadata": {
  "kernelspec": {
   "display_name": "R",
   "language": "R",
   "name": "ir"
  },
  "language_info": {
   "codemirror_mode": "r",
   "file_extension": ".r",
   "mimetype": "text/x-r-source",
   "name": "R",
   "pygments_lexer": "r",
   "version": "4.2.3"
  }
 },
 "nbformat": 4,
 "nbformat_minor": 5
}
